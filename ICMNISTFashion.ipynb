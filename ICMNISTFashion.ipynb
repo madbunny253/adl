{
 "cells": [
  {
   "cell_type": "code",
   "execution_count": 2,
   "id": "70573cba-a05c-4f83-9667-b6d49f1d8782",
   "metadata": {},
   "outputs": [
    {
     "name": "stderr",
     "output_type": "stream",
     "text": [
      "C:\\Users\\ADITYA\\AppData\\Local\\Programs\\Python\\Python311\\Lib\\site-packages\\keras\\src\\layers\\convolutional\\base_conv.py:107: UserWarning: Do not pass an `input_shape`/`input_dim` argument to a layer. When using Sequential models, prefer using an `Input(shape)` object as the first layer in the model instead.\n",
      "  super().__init__(activity_regularizer=activity_regularizer, **kwargs)\n"
     ]
    },
    {
     "name": "stdout",
     "output_type": "stream",
     "text": [
      "Epoch 1/3\n",
      "\u001b[1m125/125\u001b[0m \u001b[32m━━━━━━━━━━━━━━━━━━━━\u001b[0m\u001b[37m\u001b[0m \u001b[1m4s\u001b[0m 13ms/step - accuracy: 0.4867 - loss: 1.4614 - val_accuracy: 0.7715 - val_loss: 0.6243\n",
      "Epoch 2/3\n",
      "\u001b[1m125/125\u001b[0m \u001b[32m━━━━━━━━━━━━━━━━━━━━\u001b[0m\u001b[37m\u001b[0m \u001b[1m2s\u001b[0m 15ms/step - accuracy: 0.7456 - loss: 0.6814 - val_accuracy: 0.8170 - val_loss: 0.4958\n",
      "Epoch 3/3\n",
      "\u001b[1m125/125\u001b[0m \u001b[32m━━━━━━━━━━━━━━━━━━━━\u001b[0m\u001b[37m\u001b[0m \u001b[1m2s\u001b[0m 12ms/step - accuracy: 0.7708 - loss: 0.6124 - val_accuracy: 0.8295 - val_loss: 0.4558\n",
      "\u001b[1m1875/1875\u001b[0m \u001b[32m━━━━━━━━━━━━━━━━━━━━\u001b[0m\u001b[37m\u001b[0m \u001b[1m8s\u001b[0m 4ms/step - accuracy: 0.8161 - loss: 0.4843\n",
      "Test accuracy: 0.8161333203315735\n"
     ]
    },
    {
     "data": {
      "image/png": "[encoded data removed]",
      "text/plain": [
       "<Figure size 640x480 with 1 Axes>"
      ]
     },
     "metadata": {},
     "output_type": "display_data"
    },
    {
     "name": "stdout",
     "output_type": "stream",
     "text": [
      "\u001b[1m1875/1875\u001b[0m \u001b[32m━━━━━━━━━━━━━━━━━━━━\u001b[0m\u001b[37m\u001b[0m \u001b[1m8s\u001b[0m 4ms/step\n",
      "Prediction: coat\n"
     ]
    }
   ],
   "source": [
    "# Import necessary libraries\n",
    "import tensorflow as tf\n",
    "from tensorflow.keras.models import Sequential\n",
    "from tensorflow.keras.layers import Conv2D, MaxPooling2D, Flatten, Dense, Dropout\n",
    "import pandas as pd\n",
    "import numpy as np\n",
    "from tensorflow.keras.utils import to_categorical\n",
    "import matplotlib.pyplot as plt\n",
    "\n",
    "# Load the CSV data\n",
    "def load_data(csv_path, image_size=(28, 28), label_column='label'):\n",
    "    data = pd.read_csv(csv_path)\n",
    "    labels = data[label_column].values  # Extract labels\n",
    "    images = data.drop(columns=[label_column]).values  # Drop label column and get pixel values\n",
    "    images = images.reshape(-1, image_size[0], image_size[1], 1).astype('float32')  # Reshape to 28x28 and add channel\n",
    "    images /= 255.0  # Normalize pixel values to [0, 1]\n",
    "    return images, labels\n",
    "\n",
    "# Paths to your train and test CSV files\n",
    "train_csv_path = r\"E:\\Deep Learning Datasets-20241106T032755Z-001\\Deep Learning Datasets\\5 Fashion MNIST\\fashion-mnist_test.csv\"  \n",
    "test_csv_path = r\"E:\\Deep Learning Datasets-20241106T032755Z-001\\Deep Learning Datasets\\5 Fashion MNIST\\fashion-mnist_train.csv\" \n",
    "# Load training and test data\n",
    "X_train, y_train = load_data(train_csv_path)\n",
    "X_test, y_test = load_data(test_csv_path)\n",
    "\n",
    "# One-hot encode the labels\n",
    "num_classes = len(np.unique(y_train))  # Detect number of unique classes\n",
    "y_train = to_categorical(y_train, num_classes)\n",
    "y_test = to_categorical(y_test, num_classes)\n",
    "\n",
    "# Define the CNN model\n",
    "model = Sequential()\n",
    "\n",
    "# Add a Conv2D layer with 32 filters, 3x3 kernel, ReLU activation, and input shape of 28x28x1\n",
    "model.add(Conv2D(32, kernel_size=(3, 3), activation='relu', input_shape=(28, 28, 1)))\n",
    "\n",
    "# Add a MaxPooling2D layer with a pool size of 2x2\n",
    "model.add(MaxPooling2D(pool_size=(2, 2)))\n",
    "\n",
    "# Add another Conv2D layer with 64 filters and 3x3 kernel\n",
    "model.add(Conv2D(64, (3, 3), activation='relu'))\n",
    "\n",
    "# Add another MaxPooling2D layer\n",
    "model.add(MaxPooling2D(pool_size=(2, 2)))\n",
    "\n",
    "# Add a dropout layer to prevent overfitting\n",
    "model.add(Dropout(0.25))\n",
    "\n",
    "# Flatten the feature maps into a 1D vector\n",
    "model.add(Flatten())\n",
    "\n",
    "# Add a fully connected layer with 128 neurons\n",
    "model.add(Dense(128, activation='relu'))\n",
    "\n",
    "# Add a dropout layer to prevent overfitting\n",
    "model.add(Dropout(0.5))\n",
    "\n",
    "# Output layer with number of neurons equal to number of classes and softmax activation\n",
    "model.add(Dense(num_classes, activation='softmax'))\n",
    "\n",
    "# Compile the model\n",
    "model.compile(optimizer='adam', loss='categorical_crossentropy', metrics=['accuracy'])\n",
    "\n",
    "# Train the model\n",
    "model.fit(X_train, y_train, epochs=3, batch_size=64, validation_split=0.2)\n",
    "\n",
    "# Evaluate the model on the test data\n",
    "test_loss, test_acc = model.evaluate(X_test, y_test)\n",
    "print(f'Test accuracy: {test_acc}')\n",
    "\n",
    "# Visualize a test image and its predicted label\n",
    "class_names = [f\"Class {i}\" for i in range(num_classes)]  # Replace with actual class names if known\n",
    "n = 5  # Index of the image to visualize\n",
    "plt.imshow(X_test[n].reshape(28, 28), cmap='gray')\n",
    "plt.show()\n",
    "\n",
    "predicted_value = model.predict(X_test)\n",
    "pred = np.argmax(predicted_value[n])\n",
    "fashion = ['tshirt/top','trouser','pullover','dress','coat','sandal','shirt','sneaker','bag','ankle boot'] \n",
    "idx = (int)(class_names[pred][-1])\n",
    "print('Prediction:', fashion[idx])"
   ]
  },
  {
   "cell_type": "code",
   "execution_count": 4,
   "id": "49a91563-1baf-412f-896b-1d73f35832b2",
   "metadata": {},
   "outputs": [
    {
     "name": "stdout",
     "output_type": "stream",
     "text": [
      "Epoch 1/3\n"
     ]
    },
    {
     "name": "stderr",
     "output_type": "stream",
     "text": [
      "C:\\Users\\ADITYA\\AppData\\Local\\Programs\\Python\\Python311\\Lib\\site-packages\\keras\\src\\layers\\convolutional\\base_conv.py:107: UserWarning: Do not pass an `input_shape`/`input_dim` argument to a layer. When using Sequential models, prefer using an `Input(shape)` object as the first layer in the model instead.\n",
      "  super().__init__(activity_regularizer=activity_regularizer, **kwargs)\n"
     ]
    },
    {
     "name": "stdout",
     "output_type": "stream",
     "text": [
      "\u001b[1m125/125\u001b[0m \u001b[32m━━━━━━━━━━━━━━━━━━━━\u001b[0m\u001b[37m\u001b[0m \u001b[1m9s\u001b[0m 58ms/step - accuracy: 0.5892 - loss: 1.1391 - val_accuracy: 0.8205 - val_loss: 0.4835\n",
      "Epoch 2/3\n",
      "\u001b[1m125/125\u001b[0m \u001b[32m━━━━━━━━━━━━━━━━━━━━\u001b[0m\u001b[37m\u001b[0m \u001b[1m7s\u001b[0m 56ms/step - accuracy: 0.8082 - loss: 0.5417 - val_accuracy: 0.8650 - val_loss: 0.3870\n",
      "Epoch 3/3\n",
      "\u001b[1m125/125\u001b[0m \u001b[32m━━━━━━━━━━━━━━━━━━━━\u001b[0m\u001b[37m\u001b[0m \u001b[1m7s\u001b[0m 57ms/step - accuracy: 0.8442 - loss: 0.4430 - val_accuracy: 0.8735 - val_loss: 0.3521\n",
      "\u001b[1m1875/1875\u001b[0m \u001b[32m━━━━━━━━━━━━━━━━━━━━\u001b[0m\u001b[37m\u001b[0m \u001b[1m19s\u001b[0m 10ms/step - accuracy: 0.8593 - loss: 0.3855\n",
      "Test accuracy: 0.8597999811172485\n"
     ]
    },
    {
     "data": {
      "image/png": "[encoded data removed]",
      "text/plain": [
       "<Figure size 640x480 with 1 Axes>"
      ]
     },
     "metadata": {},
     "output_type": "display_data"
    },
    {
     "name": "stdout",
     "output_type": "stream",
     "text": [
      "\u001b[1m1875/1875\u001b[0m \u001b[32m━━━━━━━━━━━━━━━━━━━━\u001b[0m\u001b[37m\u001b[0m \u001b[1m21s\u001b[0m 11ms/step\n",
      "Prediction: coat\n"
     ]
    }
   ],
   "source": [
    "import tensorflow as tf\n",
    "from tensorflow.keras.models import Sequential\n",
    "from tensorflow.keras.layers import Conv2D, MaxPooling2D, Flatten, Dense, Dropout\n",
    "import pandas as pd\n",
    "import numpy as np\n",
    "from tensorflow.keras.utils import to_categorical\n",
    "import matplotlib.pyplot as plt\n",
    "from tensorflow.image import resize\n",
    "\n",
    "# Load the CSV data with resized images\n",
    "def load_data(csv_path, target_size=(64, 64), label_column='label'):\n",
    "    data = pd.read_csv(csv_path)\n",
    "    labels = data[label_column].values  # Extract labels\n",
    "    images = data.drop(columns=[label_column]).values  # Drop label column and get pixel values\n",
    "    images = images.reshape(-1, 28, 28, 1).astype('float32')  # Original shape (28x28) with 1 color channel\n",
    "    images = resize(images, size=target_size)  # Resize images to target resolution (64x64)\n",
    "    images /= 255.0  # Normalize pixel values to [0, 1]\n",
    "    return images, labels\n",
    "\n",
    "# Paths to your train and test CSV files\n",
    "train_csv_path = r\"E:\\Deep Learning Datasets-20241106T032755Z-001\\Deep Learning Datasets\\5 Fashion MNIST\\fashion-mnist_test.csv\"  \n",
    "test_csv_path = r\"E:\\Deep Learning Datasets-20241106T032755Z-001\\Deep Learning Datasets\\5 Fashion MNIST\\fashion-mnist_train.csv\" \n",
    "# Load training and test data\n",
    "X_train, y_train = load_data(train_csv_path)\n",
    "X_test, y_test = load_data(test_csv_path)\n",
    "\n",
    "# One-hot encode the labels\n",
    "num_classes = len(np.unique(y_train))  # Detect number of unique classes\n",
    "y_train = to_categorical(y_train, num_classes)\n",
    "y_test = to_categorical(y_test, num_classes)\n",
    "\n",
    "# Define the CNN model\n",
    "model = Sequential()\n",
    "\n",
    "# Update input shape to 64x64 due to increased image resolution\n",
    "model.add(Conv2D(32, kernel_size=(3, 3), activation='relu', input_shape=(64, 64, 1)))\n",
    "\n",
    "# Add a MaxPooling2D layer with a pool size of 2x2\n",
    "model.add(MaxPooling2D(pool_size=(2, 2)))\n",
    "\n",
    "# Add another Conv2D layer with 64 filters and 3x3 kernel\n",
    "model.add(Conv2D(64, (3, 3), activation='relu'))\n",
    "\n",
    "# Add another MaxPooling2D layer\n",
    "model.add(MaxPooling2D(pool_size=(2, 2)))\n",
    "\n",
    "# Add a dropout layer to prevent overfitting\n",
    "model.add(Dropout(0.25))\n",
    "\n",
    "# Flatten the feature maps into a 1D vector\n",
    "model.add(Flatten())\n",
    "\n",
    "# Add a fully connected layer with 128 neurons\n",
    "model.add(Dense(128, activation='relu'))\n",
    "\n",
    "# Add a dropout layer to prevent overfitting\n",
    "model.add(Dropout(0.5))\n",
    "\n",
    "# Output layer with number of neurons equal to number of classes and softmax activation\n",
    "model.add(Dense(num_classes, activation='softmax'))\n",
    "\n",
    "# Compile the model\n",
    "model.compile(optimizer='adam', loss='categorical_crossentropy', metrics=['accuracy'])\n",
    "\n",
    "# Train the model\n",
    "model.fit(X_train, y_train, epochs=3, batch_size=64, validation_split=0.2)\n",
    "\n",
    "# Evaluate the model on the test data\n",
    "test_loss, test_acc = model.evaluate(X_test, y_test)\n",
    "print(f'Test accuracy: {test_acc}')\n",
    "\n",
    "# Visualize a test image and its predicted label\n",
    "class_names = [f\"Class {i}\" for i in range(num_classes)]  # Replace with actual class names if known\n",
    "n = 5  # Index of the image to visualize\n",
    "\n",
    "# Convert the TensorFlow tensor to a NumPy array before reshaping\n",
    "plt.imshow(np.array(X_test[n]).reshape(64, 64), cmap='gray')\n",
    "plt.show()\n",
    "\n",
    "predicted_value = model.predict(X_test)\n",
    "pred = np.argmax(predicted_value[n])\n",
    "fashion = ['tshirt/top', 'trouser', 'pullover', 'dress', 'coat', 'sandal', 'shirt', 'sneaker', 'bag', 'ankle boot'] \n",
    "idx = int(class_names[pred][-1])\n",
    "print('Prediction:', fashion[idx])"
   ]
  },
  {
   "cell_type": "code",
   "execution_count": null,
   "id": "d78f6d12-061e-44e8-8c3a-bdd4246e77f1",
   "metadata": {},
   "outputs": [],
   "source": []
  }
 ],
 "metadata": {
  "kernelspec": {
   "display_name": "Python 3 (ipykernel)",
   "language": "python",
   "name": "python3"
  },
  "language_info": {
   "codemirror_mode": {
    "name": "ipython",
    "version": 3
   },
   "file_extension": ".py",
   "mimetype": "text/x-python",
   "name": "python",
   "nbconvert_exporter": "python",
   "pygments_lexer": "ipython3",
   "version": "3.11.9"
  }
 },
 "nbformat": 4,
 "nbformat_minor": 5
}
