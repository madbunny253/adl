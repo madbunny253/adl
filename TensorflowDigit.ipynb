{
 "cells": [
  {
   "cell_type": "code",
   "execution_count": 5,
   "id": "5a4d8b4f-a05c-466c-a615-33ca53417678",
   "metadata": {},
   "outputs": [
    {
     "name": "stdout",
     "output_type": "stream",
     "text": [
      "Epoch 1/5\n"
     ]
    },
    {
     "name": "stderr",
     "output_type": "stream",
     "text": [
      "C:\\Users\\ADITYA\\AppData\\Local\\Programs\\Python\\Python311\\Lib\\site-packages\\keras\\src\\layers\\reshaping\\flatten.py:37: UserWarning: Do not pass an `input_shape`/`input_dim` argument to a layer. When using Sequential models, prefer using an `Input(shape)` object as the first layer in the model instead.\n",
      "  super().__init__(**kwargs)\n"
     ]
    },
    {
     "name": "stdout",
     "output_type": "stream",
     "text": [
      "\u001b[1m1750/1750\u001b[0m \u001b[32m━━━━━━━━━━━━━━━━━━━━\u001b[0m\u001b[37m\u001b[0m \u001b[1m4s\u001b[0m 2ms/step - accuracy: 0.8737 - loss: 0.4391\n",
      "Epoch 2/5\n",
      "\u001b[1m1750/1750\u001b[0m \u001b[32m━━━━━━━━━━━━━━━━━━━━\u001b[0m\u001b[37m\u001b[0m \u001b[1m3s\u001b[0m 2ms/step - accuracy: 0.9632 - loss: 0.1253\n",
      "Epoch 3/5\n",
      "\u001b[1m1750/1750\u001b[0m \u001b[32m━━━━━━━━━━━━━━━━━━━━\u001b[0m\u001b[37m\u001b[0m \u001b[1m4s\u001b[0m 2ms/step - accuracy: 0.9762 - loss: 0.0791\n",
      "Epoch 4/5\n",
      "\u001b[1m1750/1750\u001b[0m \u001b[32m━━━━━━━━━━━━━━━━━━━━\u001b[0m\u001b[37m\u001b[0m \u001b[1m3s\u001b[0m 2ms/step - accuracy: 0.9818 - loss: 0.0594\n",
      "Epoch 5/5\n",
      "\u001b[1m1750/1750\u001b[0m \u001b[32m━━━━━━━━━━━━━━━━━━━━\u001b[0m\u001b[37m\u001b[0m \u001b[1m4s\u001b[0m 2ms/step - accuracy: 0.9861 - loss: 0.0454\n",
      "\u001b[1m438/438\u001b[0m \u001b[32m━━━━━━━━━━━━━━━━━━━━\u001b[0m\u001b[37m\u001b[0m \u001b[1m1s\u001b[0m 2ms/step - accuracy: 0.9751 - loss: 0.0845\n",
      "Test accuracy: 0.9751\n",
      "\u001b[1m1/1\u001b[0m \u001b[32m━━━━━━━━━━━━━━━━━━━━\u001b[0m\u001b[37m\u001b[0m \u001b[1m0s\u001b[0m 54ms/step\n"
     ]
    },
    {
     "data": {
      "image/png": "[encoded data removed]",
      "text/plain": [
       "<Figure size 640x480 with 1 Axes>"
      ]
     },
     "metadata": {},
     "output_type": "display_data"
    }
   ],
   "source": [
    "import numpy as np\n",
    "import matplotlib.pyplot as plt\n",
    "import tensorflow as tf\n",
    "from tensorflow.keras import layers, models\n",
    "import pandas as pd\n",
    "from sklearn.model_selection import train_test_split\n",
    "\n",
    "# Step 1: Load the custom dataset from CSV file\n",
    "data = pd.read_csv(r\"E:\\Deep Learning Datasets-20241106T032755Z-001\\Deep Learning Datasets\\3 MNIST\\mnist_784_csv.csv\")  # Replace with your actual file path\n",
    "\n",
    "# Separate features (pixel values) and labels (class)\n",
    "X = data.drop(columns=['class'])  # Drop the 'class' column for features\n",
    "y = data['class']                 # Use the 'class' column as labels\n",
    "\n",
    "# Normalize the images by scaling pixel values to [0, 1]\n",
    "X = X / 255.0\n",
    "\n",
    "# Reshape data to 28x28 images as the model expects this shape\n",
    "X = X.values.reshape(-1, 28, 28)\n",
    "\n",
    "# Step 2: Split the data into training and testing sets\n",
    "X_train, X_test, y_train, y_test = train_test_split(X, y, test_size=0.2, random_state=42)\n",
    "\n",
    "# Step 3: Create the model\n",
    "model = models.Sequential([\n",
    "    layers.Flatten(input_shape=(28, 28)),  # Flatten the input\n",
    "    layers.Dense(128, activation='relu'),   # Hidden layer with ReLU activation\n",
    "    layers.Dense(10, activation='softmax')  # Output layer with softmax activation\n",
    "])\n",
    "\n",
    "# Step 4: Compile the model\n",
    "model.compile(optimizer='adam',\n",
    "              loss='sparse_categorical_crossentropy',\n",
    "              metrics=['accuracy'])\n",
    "\n",
    "# Step 5: Train the model\n",
    "model.fit(X_train, y_train, epochs=5)\n",
    "\n",
    "# Step 6: Evaluate the model\n",
    "test_loss, test_acc = model.evaluate(X_test, y_test)\n",
    "print(f'Test accuracy: {test_acc:.4f}')\n",
    "\n",
    "# Step 7: Make a prediction on a random test image\n",
    "random_index = np.random.randint(0, X_test.shape[0])\n",
    "test_image = X_test[random_index]\n",
    "\n",
    "# Reset index of y_test to avoid KeyError\n",
    "y_test_reset = y_test.reset_index(drop=True)\n",
    "test_label = y_test_reset[random_index]\n",
    "\n",
    "# Predict the class\n",
    "predicted_label = np.argmax(model.predict(np.expand_dims(test_image, axis=0)))\n",
    "\n",
    "# Step 8: Visualize the test image and prediction\n",
    "plt.imshow(test_image, cmap='gray')\n",
    "plt.title(f'True Label: {test_label}, Predicted Label: {predicted_label}')\n",
    "plt.axis('off')\n",
    "plt.show()"
   ]
  },
  {
   "cell_type": "code",
   "execution_count": null,
   "id": "aa80c2be-07a7-4f27-89fe-a2fa50cdea57",
   "metadata": {},
   "outputs": [],
   "source": []
  }
 ],
 "metadata": {
  "kernelspec": {
   "display_name": "Python 3 (ipykernel)",
   "language": "python",
   "name": "python3"
  },
  "language_info": {
   "codemirror_mode": {
    "name": "ipython",
    "version": 3
   },
   "file_extension": ".py",
   "mimetype": "text/x-python",
   "name": "python",
   "nbconvert_exporter": "python",
   "pygments_lexer": "ipython3",
   "version": "3.11.9"
  }
 },
 "nbformat": 4,
 "nbformat_minor": 5
}
