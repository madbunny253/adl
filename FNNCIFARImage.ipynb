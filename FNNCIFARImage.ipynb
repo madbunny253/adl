{
 "cells": [
  {
   "cell_type": "code",
   "execution_count": 2,
   "id": "a0711c49",
   "metadata": {},
   "outputs": [
    {
     "name": "stdout",
     "output_type": "stream",
     "text": [
      "Found 48000 images belonging to 10 classes.\n",
      "Found 12000 images belonging to 10 classes.\n",
      "Epoch 1/5\n",
      "\u001b[1m750/750\u001b[0m \u001b[32m━━━━━━━━━━━━━━━━━━━━\u001b[0m\u001b[37m\u001b[0m \u001b[1m68s\u001b[0m 86ms/step - accuracy: 0.2766 - loss: 2.0140 - val_accuracy: 0.3894 - val_loss: 1.7036\n",
      "Epoch 2/5\n",
      "\u001b[1m750/750\u001b[0m \u001b[32m━━━━━━━━━━━━━━━━━━━━\u001b[0m\u001b[37m\u001b[0m \u001b[1m64s\u001b[0m 85ms/step - accuracy: 0.3874 - loss: 1.6985 - val_accuracy: 0.4278 - val_loss: 1.6168\n",
      "Epoch 3/5\n",
      "\u001b[1m750/750\u001b[0m \u001b[32m━━━━━━━━━━━━━━━━━━━━\u001b[0m\u001b[37m\u001b[0m \u001b[1m64s\u001b[0m 85ms/step - accuracy: 0.4258 - loss: 1.6039 - val_accuracy: 0.4353 - val_loss: 1.6040\n",
      "Epoch 4/5\n",
      "\u001b[1m750/750\u001b[0m \u001b[32m━━━━━━━━━━━━━━━━━━━━\u001b[0m\u001b[37m\u001b[0m \u001b[1m64s\u001b[0m 86ms/step - accuracy: 0.4483 - loss: 1.5383 - val_accuracy: 0.4431 - val_loss: 1.5453\n",
      "Epoch 5/5\n",
      "\u001b[1m750/750\u001b[0m \u001b[32m━━━━━━━━━━━━━━━━━━━━\u001b[0m\u001b[37m\u001b[0m \u001b[1m65s\u001b[0m 87ms/step - accuracy: 0.4697 - loss: 1.4794 - val_accuracy: 0.4601 - val_loss: 1.5184\n",
      "\u001b[1m188/188\u001b[0m \u001b[32m━━━━━━━━━━━━━━━━━━━━\u001b[0m\u001b[37m\u001b[0m \u001b[1m11s\u001b[0m 59ms/step - accuracy: 0.4612 - loss: 1.5109\n",
      "Test accuracy: 0.46008333563804626\n"
     ]
    },
    {
     "data": {
      "image/png": "[encoded data removed]",
      "text/plain": [
       "<Figure size 640x480 with 1 Axes>"
      ]
     },
     "metadata": {},
     "output_type": "display_data"
    },
    {
     "name": "stdout",
     "output_type": "stream",
     "text": [
      "\u001b[1m2/2\u001b[0m \u001b[32m━━━━━━━━━━━━━━━━━━━━\u001b[0m\u001b[37m\u001b[0m \u001b[1m0s\u001b[0m 16ms/step \n",
      "Prediction: truck\n"
     ]
    }
   ],
   "source": [
    "# Import necessary libraries\n",
    "import tensorflow as tf\n",
    "from tensorflow.keras.models import Sequential\n",
    "from tensorflow.keras.layers import Dense, Flatten\n",
    "from tensorflow.keras.preprocessing.image import ImageDataGenerator\n",
    "import matplotlib.pyplot as plt\n",
    "import numpy as np\n",
    "\n",
    "# Define the path to your dataset\n",
    "data_dir = \"E:\\Deep Learning Datasets-20241106T032755Z-001\\Deep Learning Datasets\\cifar10_dataset\"\n",
    "\n",
    "# Set up the image data generator with a validation split\n",
    "datagen = ImageDataGenerator(rescale=1.0/255.0, validation_split=0.2)  # 20% of data for validation/testing\n",
    "\n",
    "# Load the training data with 80% of the images and set aside 20% for validation\n",
    "train_generator = datagen.flow_from_directory(\n",
    "    data_dir,\n",
    "    target_size=(32, 32),  # Resize images to CIFAR-10 dimensions\n",
    "    batch_size=64,\n",
    "    class_mode='categorical',\n",
    "    subset='training'\n",
    ")\n",
    "\n",
    "# Load the validation data\n",
    "validation_generator = datagen.flow_from_directory(\n",
    "    data_dir,\n",
    "    target_size=(32, 32),\n",
    "    batch_size=64,\n",
    "    class_mode='categorical',\n",
    "    subset='validation'\n",
    ")\n",
    "\n",
    "# Define the feedforward neural network\n",
    "model = Sequential()\n",
    "\n",
    "# Flatten the 32x32x3 images into a 1D vector of 3072 (32*32*3)\n",
    "model.add(Flatten(input_shape=(32, 32, 3)))\n",
    "\n",
    "# Add a fully connected layer with 512 neurons and ReLU activation\n",
    "model.add(Dense(512, activation='relu'))\n",
    "\n",
    "# Add another fully connected layer with 256 neurons and ReLU activation\n",
    "model.add(Dense(256, activation='relu'))\n",
    "\n",
    "# Add another fully connected layer with 128 neurons and ReLU activation\n",
    "model.add(Dense(128, activation='relu'))\n",
    "\n",
    "# Output layer with 10 neurons (for each class) and softmax activation\n",
    "model.add(Dense(train_generator.num_classes, activation='softmax'))\n",
    "\n",
    "# Compile the model\n",
    "model.compile(optimizer='adam', loss='categorical_crossentropy', metrics=['accuracy'])\n",
    "\n",
    "# Train the model\n",
    "model.fit(train_generator, epochs=5, validation_data=validation_generator)\n",
    "\n",
    "# Evaluate the model on the validation data\n",
    "test_loss, test_acc = model.evaluate(validation_generator)\n",
    "print(f'Test accuracy: {test_acc}')\n",
    "\n",
    "# Visualize an example image and its predicted label\n",
    "class_labels = list(train_generator.class_indices.keys())\n",
    "n = 5  # Index of the image to visualize\n",
    "X_test, y_test = next(validation_generator)  # Get a batch of validation images\n",
    "plt.imshow(X_test[n])\n",
    "plt.show()\n",
    "cifars = ['airplane','automobile','bird','cat','deer','dog','frog','horse','ship','truck']\n",
    "predicted_value = model.predict(X_test)\n",
    "pred = np.argmax(predicted_value[n])\n",
    "idx =(int) (class_labels[pred])\n",
    "print('Prediction:', cifars[idx] )"
   ]
  },
  {
   "cell_type": "code",
   "execution_count": null,
   "id": "21f9d71d-d1d7-4ed2-9ea2-0a4a1e3410c3",
   "metadata": {},
   "outputs": [],
   "source": []
  }
 ],
 "metadata": {
  "kernelspec": {
   "display_name": "Python 3 (ipykernel)",
   "language": "python",
   "name": "python3"
  },
  "language_info": {
   "codemirror_mode": {
    "name": "ipython",
    "version": 3
   },
   "file_extension": ".py",
   "mimetype": "text/x-python",
   "name": "python",
   "nbconvert_exporter": "python",
   "pygments_lexer": "ipython3",
   "version": "3.11.9"
  }
 },
 "nbformat": 4,
 "nbformat_minor": 5
}
